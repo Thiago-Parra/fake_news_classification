{
 "cells": [
  {
   "cell_type": "markdown",
   "id": "6bf206e5",
   "metadata": {},
   "source": [
    "Monitoramento e Fairness"
   ]
  },
  {
   "cell_type": "code",
   "execution_count": 10,
   "id": "b9e009a6",
   "metadata": {},
   "outputs": [],
   "source": [
    "import pandas as pd \n",
    "import joblib\n",
    "from sklearn.metrics import classification_report, confusion_matrix\n",
    "import matplotlib.pyplot as plt\n",
    "import seaborn as sns\n",
    "import os\n",
    "import warnings\n",
    "warnings.filterwarnings(\"ignore\")"
   ]
  },
  {
   "cell_type": "markdown",
   "id": "ea4c7fec",
   "metadata": {},
   "source": [
    "Carregar modelo e vetor já treinados"
   ]
  },
  {
   "cell_type": "code",
   "execution_count": 11,
   "id": "e872187c",
   "metadata": {},
   "outputs": [
    {
     "data": {
      "application/vnd.microsoft.datawrangler.viewer.v0+json": {
       "columns": [
        {
         "name": "index",
         "rawType": "int64",
         "type": "integer"
        },
        {
         "name": "title",
         "rawType": "object",
         "type": "string"
        },
        {
         "name": "label",
         "rawType": "object",
         "type": "string"
        },
        {
         "name": "title_length",
         "rawType": "int64",
         "type": "integer"
        }
       ],
       "ref": "2ccdebe1-7936-4931-bbe8-a6f96236a8e4",
       "rows": [
        [
         "0",
         "As U.S. budget fight looms, Republicans flip their fiscal script",
         "real",
         "64"
        ],
        [
         "1",
         "U.S. military to accept transgender recruits on Monday: Pentagon",
         "real",
         "64"
        ],
        [
         "2",
         "Senior U.S. Republican senator: 'Let Mr. Mueller do his job'",
         "real",
         "60"
        ],
        [
         "3",
         "FBI Russia probe helped by Australian diplomat tip-off: NYT",
         "real",
         "59"
        ],
        [
         "4",
         "Trump wants Postal Service to charge 'much more' for Amazon shipments",
         "real",
         "69"
        ]
       ],
       "shape": {
        "columns": 3,
        "rows": 5
       }
      },
      "text/html": [
       "<div>\n",
       "<style scoped>\n",
       "    .dataframe tbody tr th:only-of-type {\n",
       "        vertical-align: middle;\n",
       "    }\n",
       "\n",
       "    .dataframe tbody tr th {\n",
       "        vertical-align: top;\n",
       "    }\n",
       "\n",
       "    .dataframe thead th {\n",
       "        text-align: right;\n",
       "    }\n",
       "</style>\n",
       "<table border=\"1\" class=\"dataframe\">\n",
       "  <thead>\n",
       "    <tr style=\"text-align: right;\">\n",
       "      <th></th>\n",
       "      <th>title</th>\n",
       "      <th>label</th>\n",
       "      <th>title_length</th>\n",
       "    </tr>\n",
       "  </thead>\n",
       "  <tbody>\n",
       "    <tr>\n",
       "      <th>0</th>\n",
       "      <td>As U.S. budget fight looms, Republicans flip t...</td>\n",
       "      <td>real</td>\n",
       "      <td>64</td>\n",
       "    </tr>\n",
       "    <tr>\n",
       "      <th>1</th>\n",
       "      <td>U.S. military to accept transgender recruits o...</td>\n",
       "      <td>real</td>\n",
       "      <td>64</td>\n",
       "    </tr>\n",
       "    <tr>\n",
       "      <th>2</th>\n",
       "      <td>Senior U.S. Republican senator: 'Let Mr. Muell...</td>\n",
       "      <td>real</td>\n",
       "      <td>60</td>\n",
       "    </tr>\n",
       "    <tr>\n",
       "      <th>3</th>\n",
       "      <td>FBI Russia probe helped by Australian diplomat...</td>\n",
       "      <td>real</td>\n",
       "      <td>59</td>\n",
       "    </tr>\n",
       "    <tr>\n",
       "      <th>4</th>\n",
       "      <td>Trump wants Postal Service to charge 'much mor...</td>\n",
       "      <td>real</td>\n",
       "      <td>69</td>\n",
       "    </tr>\n",
       "  </tbody>\n",
       "</table>\n",
       "</div>"
      ],
      "text/plain": [
       "                                               title label  title_length\n",
       "0  As U.S. budget fight looms, Republicans flip t...  real            64\n",
       "1  U.S. military to accept transgender recruits o...  real            64\n",
       "2  Senior U.S. Republican senator: 'Let Mr. Muell...  real            60\n",
       "3  FBI Russia probe helped by Australian diplomat...  real            59\n",
       "4  Trump wants Postal Service to charge 'much mor...  real            69"
      ]
     },
     "metadata": {},
     "output_type": "display_data"
    }
   ],
   "source": [
    "modelo_path = '../model.joblib'\n",
    "vetor_path = '../vectorizer.joblib'\n",
    "dados_path = '../data/news_limpo.csv'\n",
    "\n",
    "if not (os.path.exists(modelo_path) and os.path.exists(vetor_path)):\n",
    "    raise FileExistsError('Treine e salve o modelo antes de executar!')\n",
    "\n",
    "model = joblib.load(modelo_path)\n",
    "vectorizer = joblib.load(vetor_path)\n",
    "df = pd.read_csv(dados_path)\n",
    "display(df.head())"
   ]
  },
  {
   "cell_type": "markdown",
   "id": "25f7207c",
   "metadata": {},
   "source": [
    "Monitoramento"
   ]
  },
  {
   "cell_type": "code",
   "execution_count": 12,
   "id": "cdb12576",
   "metadata": {},
   "outputs": [
    {
     "data": {
      "application/vnd.microsoft.datawrangler.viewer.v0+json": {
       "columns": [
        {
         "name": "index",
         "rawType": "int64",
         "type": "integer"
        },
        {
         "name": "title",
         "rawType": "object",
         "type": "string"
        }
       ],
       "ref": "dbd0d930-9fcb-4ed2-9605-c693acf311bf",
       "rows": [
        [
         "0",
         "Breaking news: New advancements in AI technology are transforming industries."
        ],
        [
         "1",
         "Exclusive report: Major breakthrough in renewable energy."
        ],
        [
         "2",
         "Update: New study reveals the impact of social media on mental health."
        ],
        [
         "3",
         "Breaking news: New study uncovers the effects of climate change on wildlife."
        ],
        [
         "4",
         "Exclusive report: Investigation into the rise of deepfake technology."
        ],
        [
         "5",
         "Ovnis are real and have been visiting Earth for decades."
        ],
        [
         "6",
         "Aliens built the pyramids."
        ],
        [
         "7",
         "Bigfoot is hiding in the woods."
        ],
        [
         "8",
         "The Loch Ness Monster is real."
        ],
        [
         "9",
         "Mermaids have been spotted off the coast."
        ]
       ],
       "shape": {
        "columns": 1,
        "rows": 10
       }
      },
      "text/html": [
       "<div>\n",
       "<style scoped>\n",
       "    .dataframe tbody tr th:only-of-type {\n",
       "        vertical-align: middle;\n",
       "    }\n",
       "\n",
       "    .dataframe tbody tr th {\n",
       "        vertical-align: top;\n",
       "    }\n",
       "\n",
       "    .dataframe thead th {\n",
       "        text-align: right;\n",
       "    }\n",
       "</style>\n",
       "<table border=\"1\" class=\"dataframe\">\n",
       "  <thead>\n",
       "    <tr style=\"text-align: right;\">\n",
       "      <th></th>\n",
       "      <th>title</th>\n",
       "    </tr>\n",
       "  </thead>\n",
       "  <tbody>\n",
       "    <tr>\n",
       "      <th>0</th>\n",
       "      <td>Breaking news: New advancements in AI technolo...</td>\n",
       "    </tr>\n",
       "    <tr>\n",
       "      <th>1</th>\n",
       "      <td>Exclusive report: Major breakthrough in renewa...</td>\n",
       "    </tr>\n",
       "    <tr>\n",
       "      <th>2</th>\n",
       "      <td>Update: New study reveals the impact of social...</td>\n",
       "    </tr>\n",
       "    <tr>\n",
       "      <th>3</th>\n",
       "      <td>Breaking news: New study uncovers the effects ...</td>\n",
       "    </tr>\n",
       "    <tr>\n",
       "      <th>4</th>\n",
       "      <td>Exclusive report: Investigation into the rise ...</td>\n",
       "    </tr>\n",
       "    <tr>\n",
       "      <th>5</th>\n",
       "      <td>Ovnis are real and have been visiting Earth fo...</td>\n",
       "    </tr>\n",
       "    <tr>\n",
       "      <th>6</th>\n",
       "      <td>Aliens built the pyramids.</td>\n",
       "    </tr>\n",
       "    <tr>\n",
       "      <th>7</th>\n",
       "      <td>Bigfoot is hiding in the woods.</td>\n",
       "    </tr>\n",
       "    <tr>\n",
       "      <th>8</th>\n",
       "      <td>The Loch Ness Monster is real.</td>\n",
       "    </tr>\n",
       "    <tr>\n",
       "      <th>9</th>\n",
       "      <td>Mermaids have been spotted off the coast.</td>\n",
       "    </tr>\n",
       "  </tbody>\n",
       "</table>\n",
       "</div>"
      ],
      "text/plain": [
       "                                               title\n",
       "0  Breaking news: New advancements in AI technolo...\n",
       "1  Exclusive report: Major breakthrough in renewa...\n",
       "2  Update: New study reveals the impact of social...\n",
       "3  Breaking news: New study uncovers the effects ...\n",
       "4  Exclusive report: Investigation into the rise ...\n",
       "5  Ovnis are real and have been visiting Earth fo...\n",
       "6                         Aliens built the pyramids.\n",
       "7                    Bigfoot is hiding in the woods.\n",
       "8                     The Loch Ness Monster is real.\n",
       "9          Mermaids have been spotted off the coast."
      ]
     },
     "metadata": {},
     "output_type": "display_data"
    }
   ],
   "source": [
    "novos_textos = [# Real\n",
    "                \"Breaking news: New advancements in AI technology are transforming industries.\",\n",
    "                 \"Exclusive report: Major breakthrough in renewable energy.\",\n",
    "                 \"Update: New study reveals the impact of social media on mental health.\",\n",
    "                 \"Breaking news: New study uncovers the effects of climate change on wildlife.\",\n",
    "                 \"Exclusive report: Investigation into the rise of deepfake technology.\",\n",
    "                 # Fake\n",
    "                 \"Ovnis are real and have been visiting Earth for decades.\",\n",
    "                 \"Aliens built the pyramids.\",\n",
    "                 \"Bigfoot is hiding in the woods.\",\n",
    "                 \"The Loch Ness Monster is real.\",\n",
    "                 \"Mermaids have been spotted off the coast.\"\n",
    "]\n",
    "\n",
    "novos_df = pd.DataFrame({'title': novos_textos})\n",
    "display(novos_df)"
   ]
  },
  {
   "cell_type": "markdown",
   "id": "1dfc3f91",
   "metadata": {},
   "source": [
    "Vetorizar e predição"
   ]
  },
  {
   "cell_type": "markdown",
   "id": "8e9f0513",
   "metadata": {},
   "source": []
  },
  {
   "cell_type": "code",
   "execution_count": 13,
   "id": "771332b5",
   "metadata": {},
   "outputs": [
    {
     "name": "stdout",
     "output_type": "stream",
     "text": [
      "                                               title label_predito\n",
      "0  Breaking news: New advancements in AI technolo...          fake\n",
      "1  Exclusive report: Major breakthrough in renewa...          real\n",
      "2  Update: New study reveals the impact of social...          fake\n",
      "3  Breaking news: New study uncovers the effects ...          fake\n",
      "4  Exclusive report: Investigation into the rise ...          real\n",
      "5  Ovnis are real and have been visiting Earth fo...          fake\n",
      "6                         Aliens built the pyramids.          fake\n",
      "7                    Bigfoot is hiding in the woods.          fake\n",
      "8                     The Loch Ness Monster is real.          fake\n",
      "9          Mermaids have been spotted off the coast.          real\n"
     ]
    }
   ],
   "source": [
    "novos_vetores = vectorizer.transform(novos_df['title'])\n",
    "novos_preds = model.predict(novos_vetores)\n",
    "novos_df['label_predito'] = novos_preds\n",
    "print(novos_df)"
   ]
  },
  {
   "cell_type": "markdown",
   "id": "98374cd0",
   "metadata": {},
   "source": [
    "Porcentagem de cada classe"
   ]
  },
  {
   "cell_type": "code",
   "execution_count": 14,
   "id": "71ef5df8",
   "metadata": {},
   "outputs": [
    {
     "name": "stdout",
     "output_type": "stream",
     "text": [
      "Distribuição dos rótulos preditos nos novos dados:\n",
      "label_predito\n",
      "fake    0.7\n",
      "real    0.3\n",
      "Name: proportion, dtype: float64\n"
     ]
    }
   ],
   "source": [
    "class_dist = novos_df['label_predito'].value_counts(normalize=True)\n",
    "print('Distribuição dos rótulos preditos nos novos dados:')\n",
    "print(class_dist)"
   ]
  },
  {
   "cell_type": "markdown",
   "id": "93bb384a",
   "metadata": {},
   "source": [
    "Fairness - Vieses"
   ]
  },
  {
   "cell_type": "code",
   "execution_count": 15,
   "id": "496eed93",
   "metadata": {},
   "outputs": [
    {
     "data": {
      "application/vnd.microsoft.datawrangler.viewer.v0+json": {
       "columns": [
        {
         "name": "index",
         "rawType": "int64",
         "type": "integer"
        },
        {
         "name": "len_category",
         "rawType": "category",
         "type": "unknown"
        }
       ],
       "ref": "de56c5b3-cec5-4f5c-a2f6-d71f208f15a8",
       "rows": [
        [
         "0",
         "curto"
        ],
        [
         "1",
         "curto"
        ],
        [
         "2",
         "curto"
        ],
        [
         "3",
         "curto"
        ],
        [
         "4",
         "curto"
        ],
        [
         "5",
         "curto"
        ],
        [
         "6",
         "curto"
        ],
        [
         "7",
         "curto"
        ],
        [
         "8",
         "curto"
        ],
        [
         "9",
         "curto"
        ],
        [
         "10",
         "curto"
        ],
        [
         "11",
         "curto"
        ],
        [
         "12",
         "curto"
        ],
        [
         "13",
         "curto"
        ],
        [
         "14",
         "curto"
        ],
        [
         "15",
         "curto"
        ],
        [
         "16",
         "curto"
        ],
        [
         "17",
         "curto"
        ],
        [
         "18",
         "curto"
        ],
        [
         "19",
         "curto"
        ],
        [
         "20",
         "curto"
        ],
        [
         "21",
         "medio"
        ],
        [
         "22",
         "curto"
        ],
        [
         "23",
         "curto"
        ],
        [
         "24",
         "curto"
        ],
        [
         "25",
         "curto"
        ],
        [
         "26",
         "curto"
        ],
        [
         "27",
         "curto"
        ],
        [
         "28",
         "curto"
        ],
        [
         "29",
         "curto"
        ],
        [
         "30",
         "curto"
        ],
        [
         "31",
         "curto"
        ],
        [
         "32",
         "curto"
        ],
        [
         "33",
         "curto"
        ],
        [
         "34",
         "medio"
        ],
        [
         "35",
         "curto"
        ],
        [
         "36",
         "curto"
        ],
        [
         "37",
         "curto"
        ],
        [
         "38",
         "curto"
        ],
        [
         "39",
         "curto"
        ],
        [
         "40",
         "curto"
        ],
        [
         "41",
         "curto"
        ],
        [
         "42",
         "curto"
        ],
        [
         "43",
         "curto"
        ],
        [
         "44",
         "curto"
        ],
        [
         "45",
         "curto"
        ],
        [
         "46",
         "curto"
        ],
        [
         "47",
         "curto"
        ],
        [
         "48",
         "curto"
        ],
        [
         "49",
         "curto"
        ]
       ],
       "shape": {
        "columns": 1,
        "rows": 44898
       }
      },
      "text/plain": [
       "0        curto\n",
       "1        curto\n",
       "2        curto\n",
       "3        curto\n",
       "4        curto\n",
       "         ...  \n",
       "44893    curto\n",
       "44894    medio\n",
       "44895    medio\n",
       "44896    curto\n",
       "44897    medio\n",
       "Name: len_category, Length: 44898, dtype: category\n",
       "Categories (3, object): ['curto' < 'medio' < 'longo']"
      ]
     },
     "metadata": {},
     "output_type": "display_data"
    }
   ],
   "source": [
    "df['title_len'] = df['title'].apply(len)\n",
    "df['len_category'] = pd.cut(df['title_len'], bins=[0,80,100,10000], labels=['curto', 'medio', 'longo'])\n",
    "display(df['len_category'])\n"
   ]
  },
  {
   "cell_type": "markdown",
   "id": "3911014c",
   "metadata": {},
   "source": [
    "Predições conjunto de validação"
   ]
  },
  {
   "cell_type": "code",
   "execution_count": 16,
   "id": "34a3adae",
   "metadata": {},
   "outputs": [
    {
     "data": {
      "application/vnd.microsoft.datawrangler.viewer.v0+json": {
       "columns": [
        {
         "name": "index",
         "rawType": "int64",
         "type": "integer"
        },
        {
         "name": "pred",
         "rawType": "object",
         "type": "string"
        }
       ],
       "ref": "3d0ca125-d46a-49a6-b5b7-985dd89aea6e",
       "rows": [
        [
         "0",
         "real"
        ],
        [
         "1",
         "real"
        ],
        [
         "2",
         "fake"
        ],
        [
         "3",
         "real"
        ],
        [
         "4",
         "real"
        ],
        [
         "5",
         "real"
        ],
        [
         "6",
         "real"
        ],
        [
         "7",
         "real"
        ],
        [
         "8",
         "fake"
        ],
        [
         "9",
         "real"
        ],
        [
         "10",
         "real"
        ],
        [
         "11",
         "real"
        ],
        [
         "12",
         "real"
        ],
        [
         "13",
         "real"
        ],
        [
         "14",
         "real"
        ],
        [
         "15",
         "real"
        ],
        [
         "16",
         "real"
        ],
        [
         "17",
         "real"
        ],
        [
         "18",
         "real"
        ],
        [
         "19",
         "real"
        ],
        [
         "20",
         "fake"
        ],
        [
         "21",
         "real"
        ],
        [
         "22",
         "real"
        ],
        [
         "23",
         "real"
        ],
        [
         "24",
         "real"
        ],
        [
         "25",
         "real"
        ],
        [
         "26",
         "real"
        ],
        [
         "27",
         "real"
        ],
        [
         "28",
         "real"
        ],
        [
         "29",
         "real"
        ],
        [
         "30",
         "real"
        ],
        [
         "31",
         "real"
        ],
        [
         "32",
         "real"
        ],
        [
         "33",
         "real"
        ],
        [
         "34",
         "real"
        ],
        [
         "35",
         "real"
        ],
        [
         "36",
         "real"
        ],
        [
         "37",
         "real"
        ],
        [
         "38",
         "real"
        ],
        [
         "39",
         "real"
        ],
        [
         "40",
         "real"
        ],
        [
         "41",
         "real"
        ],
        [
         "42",
         "real"
        ],
        [
         "43",
         "real"
        ],
        [
         "44",
         "real"
        ],
        [
         "45",
         "real"
        ],
        [
         "46",
         "real"
        ],
        [
         "47",
         "real"
        ],
        [
         "48",
         "real"
        ],
        [
         "49",
         "real"
        ]
       ],
       "shape": {
        "columns": 1,
        "rows": 44898
       }
      },
      "text/plain": [
       "0        real\n",
       "1        real\n",
       "2        fake\n",
       "3        real\n",
       "4        real\n",
       "         ... \n",
       "44893    fake\n",
       "44894    fake\n",
       "44895    real\n",
       "44896    fake\n",
       "44897    real\n",
       "Name: pred, Length: 44898, dtype: object"
      ]
     },
     "metadata": {},
     "output_type": "display_data"
    }
   ],
   "source": [
    "vetores = vectorizer.transform(df['title'])\n",
    "df['pred'] = model.predict(vetores)\n",
    "display(df['pred'])"
   ]
  },
  {
   "cell_type": "markdown",
   "id": "54d292ca",
   "metadata": {},
   "source": [
    "Avaliação de acurácia"
   ]
  },
  {
   "cell_type": "code",
   "execution_count": 17,
   "id": "06474807",
   "metadata": {},
   "outputs": [
    {
     "name": "stdout",
     "output_type": "stream",
     "text": [
      "Acurácia para os textos curto: 0.96 (N=27618)\n",
      "Acurácia para os textos medio: 0.96 (N=10171)\n",
      "Acurácia para os textos longo: 0.98 (N=7109)\n"
     ]
    }
   ],
   "source": [
    "for cat in df['len_category'].unique():\n",
    "    subset = df[df['len_category'] == cat]\n",
    "    if not subset.empty:\n",
    "        acuracia = (subset['label'] == subset['pred']).mean()\n",
    "        print(f'Acurácia para os textos {cat}: {acuracia:.2f} (N={len(subset)})')"
   ]
  },
  {
   "cell_type": "markdown",
   "id": "9c59f0ee",
   "metadata": {},
   "source": [
    "Desafio fairness"
   ]
  },
  {
   "cell_type": "code",
   "execution_count": 18,
   "id": "3bbb44f5",
   "metadata": {},
   "outputs": [
    {
     "name": "stdout",
     "output_type": "stream",
     "text": [
      "\n",
      "Matriz de confusão para textos curto:\n",
      "[[ 6698   524]\n",
      " [  705 19691]]\n"
     ]
    },
    {
     "data": {
      "image/png": "[encoded data removed]",
      "text/plain": [
       "<Figure size 640x480 with 2 Axes>"
      ]
     },
     "metadata": {},
     "output_type": "display_data"
    },
    {
     "name": "stdout",
     "output_type": "stream",
     "text": [
      "\n",
      "Matriz de confusão para textos medio:\n",
      "[[8748  421]\n",
      " [  18  984]]\n"
     ]
    },
    {
     "data": {
      "image/png": "[encoded data removed]",
      "text/plain": [
       "<Figure size 640x480 with 2 Axes>"
      ]
     },
     "metadata": {},
     "output_type": "display_data"
    },
    {
     "name": "stdout",
     "output_type": "stream",
     "text": [
      "\n",
      "Matriz de confusão para textos longo:\n",
      "[[6948  142]\n",
      " [   0   19]]\n"
     ]
    },
    {
     "data": {
      "image/png": "[encoded data removed]",
      "text/plain": [
       "<Figure size 640x480 with 2 Axes>"
      ]
     },
     "metadata": {},
     "output_type": "display_data"
    }
   ],
   "source": [
    "for cat in df['len_category'].unique():\n",
    "    subset = df[df['len_category'] == cat]\n",
    "    if not subset.empty:\n",
    "        print(f'\\nMatriz de confusão para textos {cat}:')\n",
    "        print(confusion_matrix(subset['label'], subset[\"pred\"]))\n",
    "        sns.heatmap(confusion_matrix(subset['label'], subset[\"pred\"]),\n",
    "                    annot=True, fmt='d', cmap='Blues',\n",
    "                    )\n",
    "        plt.title(f'Textos {cat}')\n",
    "        plt.xlabel('Predito')\n",
    "        plt.ylabel('Real')\n",
    "        plt.show()"
   ]
  }
 ],
 "metadata": {
  "kernelspec": {
   "display_name": ".venv",
   "language": "python",
   "name": "python3"
  },
  "language_info": {
   "codemirror_mode": {
    "name": "ipython",
    "version": 3
   },
   "file_extension": ".py",
   "mimetype": "text/x-python",
   "name": "python",
   "nbconvert_exporter": "python",
   "pygments_lexer": "ipython3",
   "version": "3.11.5"
  }
 },
 "nbformat": 4,
 "nbformat_minor": 5
}
