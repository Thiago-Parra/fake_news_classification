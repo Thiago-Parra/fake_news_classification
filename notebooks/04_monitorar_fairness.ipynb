{
 "cells": [
  {
   "cell_type": "markdown",
   "id": "6bf206e5",
   "metadata": {},
   "source": [
    "Monitoramento e Fairness"
   ]
  },
  {
   "cell_type": "code",
   "execution_count": 28,
   "id": "b9e009a6",
   "metadata": {},
   "outputs": [],
   "source": [
    "import pandas as pd \n",
    "import joblib\n",
    "from sklearn.metrics import classification_report, confusion_matrix\n",
    "import matplotlib.pyplot as plt\n",
    "import seaborn as sns\n",
    "import os"
   ]
  },
  {
   "cell_type": "markdown",
   "id": "ea4c7fec",
   "metadata": {},
   "source": [
    "Carregar modelo e vetor já treinados"
   ]
  },
  {
   "cell_type": "code",
   "execution_count": 29,
   "id": "e872187c",
   "metadata": {},
   "outputs": [
    {
     "data": {
      "application/vnd.microsoft.datawrangler.viewer.v0+json": {
       "columns": [
        {
         "name": "index",
         "rawType": "int64",
         "type": "integer"
        },
        {
         "name": "title",
         "rawType": "object",
         "type": "string"
        },
        {
         "name": "text",
         "rawType": "object",
         "type": "string"
        },
        {
         "name": "subject",
         "rawType": "object",
         "type": "string"
        },
        {
         "name": "date",
         "rawType": "object",
         "type": "string"
        },
        {
         "name": "label",
         "rawType": "object",
         "type": "string"
        },
        {
         "name": "text_length",
         "rawType": "int64",
         "type": "integer"
        }
       ],
       "ref": "4ddefaf7-4650-40ee-89c3-5fcdbe532e01",
       "rows": [
        [
         "0",
         "As U.S. budget fight looms, Republicans flip their fiscal script",
         "WASHINGTON () - The head of a conservative Republican faction in the U.S. Congress, who voted this month for a huge expansion of the national debt to pay for tax cuts, called himself a “fiscal conservative” on Sunday and urged budget restraint in 2018. In keeping with a sharp pivot under way among Republicans, U.S. Representative Mark Meadows, speaking on CBS’ “Face the Nation,” drew a hard line on federal spending, which lawmakers are bracing to do battle over in January. When they return from the holidays on Wednesday, lawmakers will begin trying to pass a federal budget in a fight likely to be linked to other issues, such as immigration policy, even as the November congressional election campaigns approach in which Republicans will seek to keep control of Congress. President Donald Trump and his Republicans want a big budget increase in military spending, while Democrats also want proportional increases for non-defense “discretionary” spending on programs that support education, scientific research, infrastructure, public health and environmental protection. “The (Trump) administration has already been willing to say: ‘We’re going to increase non-defense discretionary spending ... by about 7 percent,’” Meadows, chairman of the small but influential House Freedom Caucus, said on the program. “Now, Democrats are saying that’s not enough, we need to give the government a pay raise of 10 to 11 percent. For a fiscal conservative, I don’t see where the rationale is. ... Eventually you run out of other people’s money,” he said. Meadows was among Republicans who voted in late December for their party’s debt-financed tax overhaul, which is expected to balloon the federal budget deficit and add about $1.5 trillion over 10 years to the $20 trillion national debt. “It’s interesting to hear Mark talk about fiscal responsibility,” Democratic U.S. Representative Joseph Crowley said on CBS. Crowley said the Republican tax bill would require the  United States to borrow $1.5 trillion, to be paid off by future generations, to finance tax cuts for corporations and the rich. “This is one of the least ... fiscally responsible bills we’ve ever seen passed in the history of the House of Representatives. I think we’re going to be paying for this for many, many years to come,” Crowley said. Republicans insist the tax package, the biggest U.S. tax overhaul in more than 30 years,  will boost the economy and job growth. House Speaker Paul Ryan, who also supported the tax bill, recently went further than Meadows, making clear in a radio interview that welfare or “entitlement reform,” as the party often calls it, would be a top Republican priority in 2018. In Republican parlance, “entitlement” programs mean food stamps, housing assistance, Medicare and Medicaid health insurance for the elderly, poor and disabled, as well as other programs created by Washington to assist the needy. Democrats seized on Ryan’s early December remarks, saying they showed Republicans would try to pay for their tax overhaul by seeking spending cuts for social programs. But the goals of House Republicans may have to take a back seat to the Senate, where the votes of some Democrats will be needed to approve a budget and prevent a government shutdown. Democrats will use their leverage in the Senate, which Republicans narrowly control, to defend both discretionary non-defense programs and social spending, while tackling the issue of the “Dreamers,” people brought illegally to the country as children. Trump in September put a March 2018 expiration date on the Deferred Action for Childhood Arrivals, or DACA, program, which protects the young immigrants from deportation and provides them with work permits. The president has said in recent Twitter messages he wants funding for his proposed Mexican border wall and other immigration law changes in exchange for agreeing to help the Dreamers. Representative Debbie Dingell told CBS she did not favor linking that issue to other policy objectives, such as wall funding. “We need to do DACA clean,” she said.  On Wednesday, Trump aides will meet with congressional leaders to discuss those issues. That will be followed by a weekend of strategy sessions for Trump and Republican leaders on Jan. 6 and 7, the White House said. Trump was also scheduled to meet on Sunday with Florida Republican Governor Rick Scott, who wants more emergency aid. The House has passed an $81 billion aid package after hurricanes in Florida, Texas and Puerto Rico, and wildfires in California. The package far exceeded the $44 billion requested by the Trump administration. The Senate has not yet voted on the aid. ",
         "politicsNews",
         "December 31, 2017 ",
         "real",
         "4652"
        ],
        [
         "1",
         "U.S. military to accept transgender recruits on Monday: Pentagon",
         "WASHINGTON () - Transgender people will be allowed for the first time to enlist in the U.S. military starting on Monday as ordered by federal courts, the Pentagon said on Friday, after President Donald Trump’s administration decided not to appeal rulings that blocked his transgender ban. Two federal appeals courts, one in Washington and one in Virginia, last week rejected the administration’s request to put on hold orders by lower court judges requiring the military to begin accepting transgender recruits on Jan. 1. A Justice Department official said the administration will not challenge those rulings. “The Department of Defense has announced that it will be releasing an independent study of these issues in the coming weeks. So rather than litigate this interim appeal before that occurs, the administration has decided to wait for DOD’s study and will continue to defend the president’s lawful authority in District Court in the meantime,” the official said, speaking on condition of anonymity. In September, the Pentagon said it had created a panel of senior officials to study how to implement a directive by Trump to prohibit transgender individuals from serving. The Defense Department has until Feb. 21 to submit a plan to Trump. Lawyers representing currently-serving transgender service members and aspiring recruits said they had expected the administration to appeal the rulings to the conservative-majority Supreme Court, but were hoping that would not happen. Pentagon spokeswoman Heather Babb said in a statement: “As mandated by court order, the Department of Defense is prepared to begin accessing transgender applicants for military service Jan. 1. All applicants must meet all accession standards.” Jennifer Levi, a lawyer with gay, lesbian and transgender advocacy group GLAD, called the decision not to appeal “great news.” “I’m hoping it means the government has come to see that there is no way to justify a ban and that it’s not good for the military or our country,” Levi said. Both GLAD and the American Civil Liberties Union represent plaintiffs in the lawsuits filed against the administration. In a move that appealed to his hard-line conservative supporters, Trump announced in July that he would prohibit transgender people from serving in the military, reversing Democratic President Barack Obama’s policy of accepting them. Trump said on Twitter at the time that the military “cannot be burdened with the tremendous medical costs and disruption that transgender in the military would entail.” Four federal judges - in Baltimore, Washington, D.C., Seattle and Riverside, California - have issued rulings blocking Trump’s ban while legal challenges to the Republican president’s policy proceed. The judges said the ban would likely violate the right under the U.S. Constitution to equal protection under the law. The Pentagon on Dec. 8 issued guidelines to recruitment personnel in order to enlist transgender applicants by Jan. 1. The memo outlined medical requirements and specified how the applicants’ sex would be identified and even which undergarments they would wear. The Trump administration previously said in legal papers that the armed forces were not prepared to train thousands of personnel on the medical standards needed to process transgender applicants and might have to accept “some individuals who are not medically fit for service.” The Obama administration had set a deadline of July 1, 2017, to begin accepting transgender recruits. But Trump’s defense secretary, James Mattis, postponed that date to Jan. 1, 2018, which the president’s ban then put off indefinitely. Trump has taken other steps aimed at rolling back transgender rights. In October, his administration said a federal law banning gender-based workplace discrimination does not protect transgender employees, reversing another Obama-era position. In February, Trump rescinded guidance issued by the Obama administration saying that public schools should allow transgender students to use the restroom that corresponds to their gender identity. ",
         "politicsNews",
         "December 29, 2017 ",
         "real",
         "4070"
        ],
        [
         "2",
         "Senior U.S. Republican senator: 'Let Mr. Mueller do his job'",
         "WASHINGTON () - The special counsel investigation of links between Russia and President Trump’s 2016 election campaign should continue without interference in 2018, despite calls from some Trump administration allies and Republican lawmakers to shut it down, a prominent Republican senator said on Sunday. Lindsey Graham, who serves on the Senate armed forces and judiciary committees, said Department of Justice Special Counsel Robert Mueller needs to carry on with his Russia investigation without political interference. “This investigation will go forward. It will be an investigation conducted without political influence,” Graham said on CBS’s Face the Nation news program. “And we all need to let Mr. Mueller do his job. I think he’s the right guy at the right time.”  The question of how Russia may have interfered in the election, and how Trump’s campaign may have had links with or co-ordinated any such effort, has loomed over the White House since Trump took office in January. It shows no sign of receding as Trump prepares for his second year in power, despite intensified rhetoric from some Trump allies in recent weeks accusing Mueller’s team of bias against the Republican president. Trump himself seemed to undercut his supporters in an interview last week with the New York Times in which he said he expected Mueller was “going to be fair.”    Russia’s role in the election and the question of possible links to the Trump campaign are the focus of multiple inquiries in Washington. Three committees of the Senate and the House of Representatives are investigating, as well as Mueller, whose team in May took over an earlier probe launched by the U.S. Federal Bureau of Investigation (FBI). Several members of the Trump campaign and administration have been convicted or indicted in the investigation.  Trump and his allies deny any collusion with Russia during the campaign, and the Kremlin has denied meddling in the election. Graham said he still wants an examination of the FBI’s use of a dossier on links between Trump and Russia that was compiled by a former British spy, Christopher Steele, which prompted Trump allies and some Republicans to question Mueller’s inquiry.   On Saturday, the New York Times reported that it was not that dossier that triggered an early FBI probe, but a tip from former Trump campaign foreign policy adviser George Papadopoulos to an Australian diplomat that Russia had damaging information about former Trump rival Hillary Clinton.  “I want somebody to look at the way the Department of Justice used this dossier. It bothers me greatly the way they used it, and I want somebody to look at it,” Graham said. But he said the Russia investigation must continue. “As a matter of fact, it would hurt us if we ignored it,” he said. ",
         "politicsNews",
         "December 31, 2017 ",
         "real",
         "2782"
        ],
        [
         "3",
         "FBI Russia probe helped by Australian diplomat tip-off: NYT",
         "WASHINGTON () - Trump campaign adviser George Papadopoulos told an Australian diplomat in May 2016 that Russia had political dirt on Democratic presidential candidate Hillary Clinton, the New York Times reported on Saturday. The conversation between Papadopoulos and the diplomat, Alexander Downer, in London was a driving factor behind the FBI’s decision to open a counter-intelligence investigation of Moscow’s contacts with the Trump campaign, the Times reported. Two months after the meeting, Australian officials passed the information that came from Papadopoulos to their American counterparts when leaked Democratic emails began appearing online, according to the newspaper, which cited four current and former U.S. and foreign officials. Besides the information from the Australians, the probe by the Federal Bureau of Investigation was also propelled by intelligence from other friendly governments, including the British and Dutch, the Times said. Papadopoulos, a Chicago-based international energy lawyer, pleaded guilty on Oct. 30 to lying to FBI agents about contacts with people who claimed to have ties to top Russian officials. It was the first criminal charge alleging links between the Trump campaign and Russia. The White House has played down the former aide’s campaign role, saying it was “extremely limited” and that any actions he took would have been on his own. The New York Times, however, reported that Papadopoulos helped set up a meeting between then-candidate Donald Trump and Egyptian President Abdel Fattah al-Sisi and edited the outline of Trump’s first major foreign policy speech in April 2016. The federal investigation, which is now being led by Special Counsel Robert Mueller, has hung over Trump’s White House since he took office almost a year ago. Some Trump allies have recently accused Mueller’s team of being biased against the Republican president. Lawyers for Papadopoulos did not immediately respond to requests by  for comment. Mueller’s office declined to comment. Trump’s White House attorney, Ty Cobb, declined to comment on the New York Times report. “Out of respect for the special counsel and his process, we are not commenting on matters such as this,” he said in a statement. Mueller has charged four Trump associates, including Papadopoulos, in his investigation. Russia has denied interfering in the U.S. election and Trump has said there was no collusion between his campaign and Moscow. ",
         "politicsNews",
         "December 30, 2017 ",
         "real",
         "2447"
        ],
        [
         "4",
         "Trump wants Postal Service to charge 'much more' for Amazon shipments",
         "SEATTLE/WASHINGTON () - President Donald Trump called on the U.S. Postal Service on Friday to charge “much more” to ship packages for Amazon (AMZN.O), picking another fight with an online retail giant he has criticized in the past.     “Why is the United States Post Office, which is losing many billions of dollars a year, while charging Amazon and others so little to deliver their packages, making Amazon richer and the Post Office dumber and poorer? Should be charging MUCH MORE!” Trump wrote on Twitter.  The president’s tweet drew fresh attention to the fragile finances of the Postal Service at a time when tens of millions of parcels have just been shipped all over the country for the holiday season.  The U.S. Postal Service, which runs at a big loss, is an independent agency within the federal government and does not receive tax dollars for operating expenses, according to its website.  Package delivery has become an increasingly important part of its business as the Internet has led to a sharp decline in the amount of first-class letters. The president does not determine postal rates. They are set by the Postal Regulatory Commission, an independent government agency with commissioners selected by the president from both political parties. That panel raised prices on packages by almost 2 percent in November.  Amazon was founded by Jeff Bezos, who remains the chief executive officer of the retail company and is the richest person in the world, according to Bloomberg News. Bezos also owns The Washington Post, a newspaper Trump has repeatedly railed against in his criticisms of the news media. In tweets over the past year, Trump has said the “Amazon Washington Post” fabricated stories. He has said Amazon does not pay sales tax, which is not true, and so hurts other retailers, part of a pattern by the former businessman and reality television host of periodically turning his ire on big American companies since he took office in January. Daniel Ives, a research analyst at GBH Insights, said Trump’s comment could be taken as a warning to the retail giant. However, he said he was not concerned for Amazon. “We do not see any price hikes in the future. However, that is a risk that Amazon is clearly aware of and (it) is building out its distribution (system) aggressively,” he said. Amazon has shown interest in the past in shifting into its own delivery service, including testing drones for deliveries. In 2015, the company spent $11.5 billion on shipping, 46 percent of its total operating expenses that year.  Amazon shares were down 0.86 percent to $1,175.90 by early afternoon. Overall, U.S. stock prices were down slightly on Friday.  Satish Jindel, president of ShipMatrix Inc, which analyzes shipping data, disputed the idea that the Postal Service charges less than United Parcel Service Inc (UPS.N) and FedEx Corp (FDX.N), the other biggest players in the parcel delivery business in the United States. Many customers get lower rates from UPS and FedEx than they would get from the post office for comparable services, he said. The Postal Service delivers about 62 percent of Amazon packages, for about 3.5 to 4 million a day during the current peak year-end holiday shipping season, Jindel said. The Seattle-based company and the post office have an agreement in which mail carriers take Amazon packages on the last leg of their journeys, from post offices to customers’ doorsteps. Amazon’s No. 2 carrier is UPS, at 21 percent, and FedEx is third, with 8 percent or so, according to Jindel. Trump’s comment tapped into a debate over whether Postal Service pricing has kept pace with the rise of e-commerce, which has flooded the mail with small packages.Private companies like UPS have long claimed the current system unfairly undercuts their business. Steve Gaut, a spokesman for UPS, noted that the company values its “productive relationship” with the postal service, but that it has filed with the Postal Regulatory Commission its concerns about the postal service’s methods for covering costs. Representatives for Amazon, the White House, the U.S. Postal Service and FedEx declined comment or were not immediately available for comment on Trump’s tweet. According to its annual report, the Postal Service lost $2.74 billion this year, and its deficit has ballooned to $61.86 billion.  While the Postal Service’s revenue for first class mail, marketing mail and periodicals is flat or declining, revenue from package delivery is up 44 percent since 2014 to $19.5 billion in the fiscal year ended Sept. 30, 2017. But it also lost about $2 billion in revenue when a temporary surcharge expired in April 2016. According to a Government Accountability Office report in February, the service is facing growing personnel expenses, particularly $73.4 billion in unfunded pension and benefits liabilities. The Postal Service has not announced any plans to cut costs. By law, the Postal Service has to set prices for package delivery to cover the costs attributable to that service. But the postal service allocates only 5.5 percent of its total costs to its business of shipping packages even though that line of business is 28 percent of its total revenue. ",
         "politicsNews",
         "December 29, 2017 ",
         "real",
         "5197"
        ]
       ],
       "shape": {
        "columns": 6,
        "rows": 5
       }
      },
      "text/html": [
       "<div>\n",
       "<style scoped>\n",
       "    .dataframe tbody tr th:only-of-type {\n",
       "        vertical-align: middle;\n",
       "    }\n",
       "\n",
       "    .dataframe tbody tr th {\n",
       "        vertical-align: top;\n",
       "    }\n",
       "\n",
       "    .dataframe thead th {\n",
       "        text-align: right;\n",
       "    }\n",
       "</style>\n",
       "<table border=\"1\" class=\"dataframe\">\n",
       "  <thead>\n",
       "    <tr style=\"text-align: right;\">\n",
       "      <th></th>\n",
       "      <th>title</th>\n",
       "      <th>text</th>\n",
       "      <th>subject</th>\n",
       "      <th>date</th>\n",
       "      <th>label</th>\n",
       "      <th>text_length</th>\n",
       "    </tr>\n",
       "  </thead>\n",
       "  <tbody>\n",
       "    <tr>\n",
       "      <th>0</th>\n",
       "      <td>As U.S. budget fight looms, Republicans flip t...</td>\n",
       "      <td>WASHINGTON () - The head of a conservative Rep...</td>\n",
       "      <td>politicsNews</td>\n",
       "      <td>December 31, 2017</td>\n",
       "      <td>real</td>\n",
       "      <td>4652</td>\n",
       "    </tr>\n",
       "    <tr>\n",
       "      <th>1</th>\n",
       "      <td>U.S. military to accept transgender recruits o...</td>\n",
       "      <td>WASHINGTON () - Transgender people will be all...</td>\n",
       "      <td>politicsNews</td>\n",
       "      <td>December 29, 2017</td>\n",
       "      <td>real</td>\n",
       "      <td>4070</td>\n",
       "    </tr>\n",
       "    <tr>\n",
       "      <th>2</th>\n",
       "      <td>Senior U.S. Republican senator: 'Let Mr. Muell...</td>\n",
       "      <td>WASHINGTON () - The special counsel investigat...</td>\n",
       "      <td>politicsNews</td>\n",
       "      <td>December 31, 2017</td>\n",
       "      <td>real</td>\n",
       "      <td>2782</td>\n",
       "    </tr>\n",
       "    <tr>\n",
       "      <th>3</th>\n",
       "      <td>FBI Russia probe helped by Australian diplomat...</td>\n",
       "      <td>WASHINGTON () - Trump campaign adviser George ...</td>\n",
       "      <td>politicsNews</td>\n",
       "      <td>December 30, 2017</td>\n",
       "      <td>real</td>\n",
       "      <td>2447</td>\n",
       "    </tr>\n",
       "    <tr>\n",
       "      <th>4</th>\n",
       "      <td>Trump wants Postal Service to charge 'much mor...</td>\n",
       "      <td>SEATTLE/WASHINGTON () - President Donald Trump...</td>\n",
       "      <td>politicsNews</td>\n",
       "      <td>December 29, 2017</td>\n",
       "      <td>real</td>\n",
       "      <td>5197</td>\n",
       "    </tr>\n",
       "  </tbody>\n",
       "</table>\n",
       "</div>"
      ],
      "text/plain": [
       "                                               title  \\\n",
       "0  As U.S. budget fight looms, Republicans flip t...   \n",
       "1  U.S. military to accept transgender recruits o...   \n",
       "2  Senior U.S. Republican senator: 'Let Mr. Muell...   \n",
       "3  FBI Russia probe helped by Australian diplomat...   \n",
       "4  Trump wants Postal Service to charge 'much mor...   \n",
       "\n",
       "                                                text       subject  \\\n",
       "0  WASHINGTON () - The head of a conservative Rep...  politicsNews   \n",
       "1  WASHINGTON () - Transgender people will be all...  politicsNews   \n",
       "2  WASHINGTON () - The special counsel investigat...  politicsNews   \n",
       "3  WASHINGTON () - Trump campaign adviser George ...  politicsNews   \n",
       "4  SEATTLE/WASHINGTON () - President Donald Trump...  politicsNews   \n",
       "\n",
       "                 date label  text_length  \n",
       "0  December 31, 2017   real         4652  \n",
       "1  December 29, 2017   real         4070  \n",
       "2  December 31, 2017   real         2782  \n",
       "3  December 30, 2017   real         2447  \n",
       "4  December 29, 2017   real         5197  "
      ]
     },
     "metadata": {},
     "output_type": "display_data"
    }
   ],
   "source": [
    "modelo_path = '../model.joblib'\n",
    "vetor_path = '../vectorizer.joblib'\n",
    "dados_path = '../data/news_limpo.csv'\n",
    "\n",
    "if not (os.path.exists(modelo_path) and os.path.exists(vetor_path)):\n",
    "    raise FileExistsError('Treine e salve o modelo antes de executar!')\n",
    "\n",
    "model = joblib.load(modelo_path)\n",
    "vectorizer = joblib.load(vetor_path)\n",
    "df = pd.read_csv(dados_path)\n",
    "display(df.head())"
   ]
  },
  {
   "cell_type": "markdown",
   "id": "25f7207c",
   "metadata": {},
   "source": [
    "Monitoramento"
   ]
  },
  {
   "cell_type": "code",
   "execution_count": 30,
   "id": "cdb12576",
   "metadata": {},
   "outputs": [
    {
     "data": {
      "application/vnd.microsoft.datawrangler.viewer.v0+json": {
       "columns": [
        {
         "name": "index",
         "rawType": "int64",
         "type": "integer"
        },
        {
         "name": "title",
         "rawType": "object",
         "type": "string"
        }
       ],
       "ref": "9201fd07-1be6-4cb0-bf47-a25f828dc23e",
       "rows": [
        [
         "0",
         "Breaking news: New advancements in AI technology are transforming industries."
        ],
        [
         "1",
         "Exclusive report: Major breakthrough in renewable energy."
        ],
        [
         "2",
         "Update: New study reveals the impact of social media on mental health."
        ],
        [
         "3",
         "Breaking news: New study uncovers the effects of climate change on wildlife."
        ],
        [
         "4",
         "Exclusive report: Investigation into the rise of deepfake technology."
        ],
        [
         "5",
         "Ovnis are real and have been visiting Earth for decades."
        ],
        [
         "6",
         "Aliens built the pyramids."
        ],
        [
         "7",
         "Bigfoot is hiding in the woods."
        ],
        [
         "8",
         "The Loch Ness Monster is real."
        ],
        [
         "9",
         "Mermaids have been spotted off the coast."
        ]
       ],
       "shape": {
        "columns": 1,
        "rows": 10
       }
      },
      "text/html": [
       "<div>\n",
       "<style scoped>\n",
       "    .dataframe tbody tr th:only-of-type {\n",
       "        vertical-align: middle;\n",
       "    }\n",
       "\n",
       "    .dataframe tbody tr th {\n",
       "        vertical-align: top;\n",
       "    }\n",
       "\n",
       "    .dataframe thead th {\n",
       "        text-align: right;\n",
       "    }\n",
       "</style>\n",
       "<table border=\"1\" class=\"dataframe\">\n",
       "  <thead>\n",
       "    <tr style=\"text-align: right;\">\n",
       "      <th></th>\n",
       "      <th>title</th>\n",
       "    </tr>\n",
       "  </thead>\n",
       "  <tbody>\n",
       "    <tr>\n",
       "      <th>0</th>\n",
       "      <td>Breaking news: New advancements in AI technolo...</td>\n",
       "    </tr>\n",
       "    <tr>\n",
       "      <th>1</th>\n",
       "      <td>Exclusive report: Major breakthrough in renewa...</td>\n",
       "    </tr>\n",
       "    <tr>\n",
       "      <th>2</th>\n",
       "      <td>Update: New study reveals the impact of social...</td>\n",
       "    </tr>\n",
       "    <tr>\n",
       "      <th>3</th>\n",
       "      <td>Breaking news: New study uncovers the effects ...</td>\n",
       "    </tr>\n",
       "    <tr>\n",
       "      <th>4</th>\n",
       "      <td>Exclusive report: Investigation into the rise ...</td>\n",
       "    </tr>\n",
       "    <tr>\n",
       "      <th>5</th>\n",
       "      <td>Ovnis are real and have been visiting Earth fo...</td>\n",
       "    </tr>\n",
       "    <tr>\n",
       "      <th>6</th>\n",
       "      <td>Aliens built the pyramids.</td>\n",
       "    </tr>\n",
       "    <tr>\n",
       "      <th>7</th>\n",
       "      <td>Bigfoot is hiding in the woods.</td>\n",
       "    </tr>\n",
       "    <tr>\n",
       "      <th>8</th>\n",
       "      <td>The Loch Ness Monster is real.</td>\n",
       "    </tr>\n",
       "    <tr>\n",
       "      <th>9</th>\n",
       "      <td>Mermaids have been spotted off the coast.</td>\n",
       "    </tr>\n",
       "  </tbody>\n",
       "</table>\n",
       "</div>"
      ],
      "text/plain": [
       "                                               title\n",
       "0  Breaking news: New advancements in AI technolo...\n",
       "1  Exclusive report: Major breakthrough in renewa...\n",
       "2  Update: New study reveals the impact of social...\n",
       "3  Breaking news: New study uncovers the effects ...\n",
       "4  Exclusive report: Investigation into the rise ...\n",
       "5  Ovnis are real and have been visiting Earth fo...\n",
       "6                         Aliens built the pyramids.\n",
       "7                    Bigfoot is hiding in the woods.\n",
       "8                     The Loch Ness Monster is real.\n",
       "9          Mermaids have been spotted off the coast."
      ]
     },
     "metadata": {},
     "output_type": "display_data"
    }
   ],
   "source": [
    "novos_textos = [\"Breaking news: New advancements in AI technology are transforming industries.\",\n",
    "                 \"Exclusive report: Major breakthrough in renewable energy.\",\n",
    "                 \"Update: New study reveals the impact of social media on mental health.\",\n",
    "                 \"Breaking news: New study uncovers the effects of climate change on wildlife.\",\n",
    "                 \"Exclusive report: Investigation into the rise of deepfake technology.\",\n",
    "                 # Fake\n",
    "                 \"Ovnis are real and have been visiting Earth for decades.\",\n",
    "                 \"Aliens built the pyramids.\",\n",
    "                 \"Bigfoot is hiding in the woods.\",\n",
    "                 \"The Loch Ness Monster is real.\",\n",
    "                 \"Mermaids have been spotted off the coast.\"\n",
    "]\n",
    "\n",
    "novos_df = pd.DataFrame({'title': novos_textos})\n",
    "display(novos_df)"
   ]
  },
  {
   "cell_type": "markdown",
   "id": "1dfc3f91",
   "metadata": {},
   "source": [
    "Vetorizar e predição"
   ]
  },
  {
   "cell_type": "markdown",
   "id": "8e9f0513",
   "metadata": {},
   "source": []
  },
  {
   "cell_type": "code",
   "execution_count": 31,
   "id": "771332b5",
   "metadata": {},
   "outputs": [
    {
     "name": "stdout",
     "output_type": "stream",
     "text": [
      "                                               title label_predito\n",
      "0  Breaking news: New advancements in AI technolo...          fake\n",
      "1  Exclusive report: Major breakthrough in renewa...          real\n",
      "2  Update: New study reveals the impact of social...          fake\n",
      "3  Breaking news: New study uncovers the effects ...          fake\n",
      "4  Exclusive report: Investigation into the rise ...          real\n",
      "5  Ovnis are real and have been visiting Earth fo...          fake\n",
      "6                         Aliens built the pyramids.          fake\n",
      "7                    Bigfoot is hiding in the woods.          fake\n",
      "8                     The Loch Ness Monster is real.          fake\n",
      "9          Mermaids have been spotted off the coast.          real\n"
     ]
    }
   ],
   "source": [
    "novos_vetores = vectorizer.transform(novos_df['title'])\n",
    "novos_preds = model.predict(novos_vetores)\n",
    "novos_df['label_predito'] = novos_preds\n",
    "print(novos_df)"
   ]
  },
  {
   "cell_type": "markdown",
   "id": "98374cd0",
   "metadata": {},
   "source": [
    "Porcentagem de cada classe"
   ]
  },
  {
   "cell_type": "code",
   "execution_count": 32,
   "id": "71ef5df8",
   "metadata": {},
   "outputs": [
    {
     "name": "stdout",
     "output_type": "stream",
     "text": [
      "Distribuição dos rótulos preditos nos novos dados:\n",
      "label_predito\n",
      "fake    0.7\n",
      "real    0.3\n",
      "Name: proportion, dtype: float64\n"
     ]
    }
   ],
   "source": [
    "class_dist = novos_df['label_predito'].value_counts(normalize=True)\n",
    "print('Distribuição dos rótulos preditos nos novos dados:')\n",
    "print(class_dist)"
   ]
  },
  {
   "cell_type": "markdown",
   "id": "93bb384a",
   "metadata": {},
   "source": [
    "Fairness - Vieses"
   ]
  },
  {
   "cell_type": "code",
   "execution_count": 33,
   "id": "496eed93",
   "metadata": {},
   "outputs": [
    {
     "data": {
      "application/vnd.microsoft.datawrangler.viewer.v0+json": {
       "columns": [
        {
         "name": "index",
         "rawType": "int64",
         "type": "integer"
        },
        {
         "name": "len_category",
         "rawType": "category",
         "type": "unknown"
        }
       ],
       "ref": "8cd35c7b-aace-4cfa-8457-80e942115d3d",
       "rows": [
        [
         "0",
         "medio"
        ],
        [
         "1",
         "medio"
        ],
        [
         "2",
         "medio"
        ],
        [
         "3",
         "medio"
        ],
        [
         "4",
         "medio"
        ],
        [
         "5",
         "medio"
        ],
        [
         "6",
         "medio"
        ],
        [
         "7",
         "medio"
        ],
        [
         "8",
         "curto"
        ],
        [
         "9",
         "medio"
        ],
        [
         "10",
         "medio"
        ],
        [
         "11",
         "medio"
        ],
        [
         "12",
         "medio"
        ],
        [
         "13",
         "curto"
        ],
        [
         "14",
         "medio"
        ],
        [
         "15",
         "medio"
        ],
        [
         "16",
         "medio"
        ],
        [
         "17",
         "medio"
        ],
        [
         "18",
         "medio"
        ],
        [
         "19",
         "medio"
        ],
        [
         "20",
         "medio"
        ],
        [
         "21",
         "medio"
        ],
        [
         "22",
         "medio"
        ],
        [
         "23",
         "medio"
        ],
        [
         "24",
         "medio"
        ],
        [
         "25",
         "medio"
        ],
        [
         "26",
         "medio"
        ],
        [
         "27",
         "medio"
        ],
        [
         "28",
         "medio"
        ],
        [
         "29",
         "curto"
        ],
        [
         "30",
         "medio"
        ],
        [
         "31",
         "medio"
        ],
        [
         "32",
         "medio"
        ],
        [
         "33",
         "medio"
        ],
        [
         "34",
         "medio"
        ],
        [
         "35",
         "medio"
        ],
        [
         "36",
         "medio"
        ],
        [
         "37",
         "medio"
        ],
        [
         "38",
         "medio"
        ],
        [
         "39",
         "curto"
        ],
        [
         "40",
         "curto"
        ],
        [
         "41",
         "medio"
        ],
        [
         "42",
         "medio"
        ],
        [
         "43",
         "curto"
        ],
        [
         "44",
         "medio"
        ],
        [
         "45",
         "medio"
        ],
        [
         "46",
         "medio"
        ],
        [
         "47",
         "medio"
        ],
        [
         "48",
         "medio"
        ],
        [
         "49",
         "medio"
        ]
       ],
       "shape": {
        "columns": 1,
        "rows": 44898
       }
      },
      "text/plain": [
       "0        medio\n",
       "1        medio\n",
       "2        medio\n",
       "3        medio\n",
       "4        medio\n",
       "         ...  \n",
       "44893    medio\n",
       "44894    medio\n",
       "44895    medio\n",
       "44896    medio\n",
       "44897    medio\n",
       "Name: len_category, Length: 44898, dtype: category\n",
       "Categories (3, object): ['curto' < 'medio' < 'longo']"
      ]
     },
     "metadata": {},
     "output_type": "display_data"
    }
   ],
   "source": [
    "df['title_len'] = df['title'].apply(len)\n",
    "df['len_category'] = pd.cut(df['title_len'], bins=[0,50,150,10000], labels=['curto', 'medio', 'longo'])\n",
    "display(df['len_category'])\n"
   ]
  },
  {
   "cell_type": "markdown",
   "id": "3911014c",
   "metadata": {},
   "source": [
    "Predições conjunto de validação"
   ]
  },
  {
   "cell_type": "code",
   "execution_count": 34,
   "id": "34a3adae",
   "metadata": {},
   "outputs": [
    {
     "data": {
      "application/vnd.microsoft.datawrangler.viewer.v0+json": {
       "columns": [
        {
         "name": "index",
         "rawType": "int64",
         "type": "integer"
        },
        {
         "name": "pred",
         "rawType": "object",
         "type": "string"
        }
       ],
       "ref": "86559c96-7672-4021-b7c6-59113078d8fb",
       "rows": [
        [
         "0",
         "real"
        ],
        [
         "1",
         "real"
        ],
        [
         "2",
         "fake"
        ],
        [
         "3",
         "real"
        ],
        [
         "4",
         "real"
        ],
        [
         "5",
         "real"
        ],
        [
         "6",
         "real"
        ],
        [
         "7",
         "real"
        ],
        [
         "8",
         "fake"
        ],
        [
         "9",
         "real"
        ],
        [
         "10",
         "real"
        ],
        [
         "11",
         "real"
        ],
        [
         "12",
         "real"
        ],
        [
         "13",
         "real"
        ],
        [
         "14",
         "real"
        ],
        [
         "15",
         "real"
        ],
        [
         "16",
         "real"
        ],
        [
         "17",
         "real"
        ],
        [
         "18",
         "real"
        ],
        [
         "19",
         "real"
        ],
        [
         "20",
         "fake"
        ],
        [
         "21",
         "real"
        ],
        [
         "22",
         "real"
        ],
        [
         "23",
         "real"
        ],
        [
         "24",
         "real"
        ],
        [
         "25",
         "real"
        ],
        [
         "26",
         "real"
        ],
        [
         "27",
         "real"
        ],
        [
         "28",
         "real"
        ],
        [
         "29",
         "real"
        ],
        [
         "30",
         "real"
        ],
        [
         "31",
         "real"
        ],
        [
         "32",
         "real"
        ],
        [
         "33",
         "real"
        ],
        [
         "34",
         "real"
        ],
        [
         "35",
         "real"
        ],
        [
         "36",
         "real"
        ],
        [
         "37",
         "real"
        ],
        [
         "38",
         "real"
        ],
        [
         "39",
         "real"
        ],
        [
         "40",
         "real"
        ],
        [
         "41",
         "real"
        ],
        [
         "42",
         "real"
        ],
        [
         "43",
         "real"
        ],
        [
         "44",
         "real"
        ],
        [
         "45",
         "real"
        ],
        [
         "46",
         "real"
        ],
        [
         "47",
         "real"
        ],
        [
         "48",
         "real"
        ],
        [
         "49",
         "real"
        ]
       ],
       "shape": {
        "columns": 1,
        "rows": 44898
       }
      },
      "text/plain": [
       "0        real\n",
       "1        real\n",
       "2        fake\n",
       "3        real\n",
       "4        real\n",
       "         ... \n",
       "44893    fake\n",
       "44894    fake\n",
       "44895    real\n",
       "44896    fake\n",
       "44897    real\n",
       "Name: pred, Length: 44898, dtype: object"
      ]
     },
     "metadata": {},
     "output_type": "display_data"
    }
   ],
   "source": [
    "vetores = vectorizer.transform(df['title'])\n",
    "df['pred'] = model.predict(vetores)\n",
    "display(df['pred'])"
   ]
  },
  {
   "cell_type": "markdown",
   "id": "54d292ca",
   "metadata": {},
   "source": [
    "Avaliação de acurácia"
   ]
  },
  {
   "cell_type": "code",
   "execution_count": 35,
   "id": "06474807",
   "metadata": {},
   "outputs": [
    {
     "name": "stdout",
     "output_type": "stream",
     "text": [
      "Acurácia para os textos medio: 0.96 (N=42164)\n",
      "Acurácia para os textos curto: 0.93 (N=1717)\n",
      "Acurácia para os textos longo: 0.99 (N=1017)\n"
     ]
    }
   ],
   "source": [
    "for cat in df['len_category'].unique():\n",
    "    subset = df[df['len_category'] == cat]\n",
    "    if not subset.empty:\n",
    "        acuracia = (subset['label'] == subset['pred']).mean()\n",
    "        print(f'Acurácia para os textos {cat}: {acuracia:.2f} (N={len(subset)})')"
   ]
  },
  {
   "cell_type": "markdown",
   "id": "9c59f0ee",
   "metadata": {},
   "source": [
    "Desafio fairness"
   ]
  },
  {
   "cell_type": "code",
   "execution_count": 36,
   "id": "3bbb44f5",
   "metadata": {},
   "outputs": [
    {
     "name": "stdout",
     "output_type": "stream",
     "text": [
      "\n",
      "Matriz de confusão para textos medio:\n",
      "[[20906  1009]\n",
      " [  661 19588]]\n"
     ]
    },
    {
     "data": {
      "image/png": "[encoded data removed]",
      "text/plain": [
       "<Figure size 640x480 with 2 Axes>"
      ]
     },
     "metadata": {},
     "output_type": "display_data"
    },
    {
     "name": "stdout",
     "output_type": "stream",
     "text": [
      "\n",
      "Matriz de confusão para textos curto:\n",
      "[[ 483   66]\n",
      " [  62 1106]]\n"
     ]
    },
    {
     "data": {
      "image/png": "[encoded data removed]",
      "text/plain": [
       "<Figure size 640x480 with 2 Axes>"
      ]
     },
     "metadata": {},
     "output_type": "display_data"
    },
    {
     "name": "stdout",
     "output_type": "stream",
     "text": [
      "\n",
      "Matriz de confusão para textos longo:\n",
      "[[1005   12]\n",
      " [   0    0]]\n"
     ]
    },
    {
     "data": {
      "image/png": "[encoded data removed]",
      "text/plain": [
       "<Figure size 640x480 with 2 Axes>"
      ]
     },
     "metadata": {},
     "output_type": "display_data"
    }
   ],
   "source": [
    "for cat in df['len_category'].unique():\n",
    "    subset = df[df['len_category'] == cat]\n",
    "    if not subset.empty:\n",
    "        print(f'\\nMatriz de confusão para textos {cat}:')\n",
    "        print(confusion_matrix(subset['label'], subset[\"pred\"]))\n",
    "        sns.heatmap(confusion_matrix(subset['label'], subset[\"pred\"]),\n",
    "                    annot=True, fmt='d', cmap='Blues',\n",
    "                     xticklabels=[\"Previsto Positivo\", \"Previsto Neutro\", \"Previsto Negativo\"],\n",
    "                    yticklabels=[\"Real Positivo\", \"Real Neutro\", \"Real Negativo\"])\n",
    "        plt.title(f'Textos {cat}')\n",
    "        plt.xlabel('Predito')\n",
    "        plt.ylabel('Real')\n",
    "        plt.show()"
   ]
  }
 ],
 "metadata": {
  "kernelspec": {
   "display_name": ".venv",
   "language": "python",
   "name": "python3"
  },
  "language_info": {
   "codemirror_mode": {
    "name": "ipython",
    "version": 3
   },
   "file_extension": ".py",
   "mimetype": "text/x-python",
   "name": "python",
   "nbconvert_exporter": "python",
   "pygments_lexer": "ipython3",
   "version": "3.11.5"
  }
 },
 "nbformat": 4,
 "nbformat_minor": 5
}
