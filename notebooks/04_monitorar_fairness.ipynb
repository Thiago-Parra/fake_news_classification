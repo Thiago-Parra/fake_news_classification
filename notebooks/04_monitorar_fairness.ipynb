{
 "cells": [
  {
   "cell_type": "markdown",
   "id": "6bf206e5",
   "metadata": {},
   "source": [
    "Monitoramento e Fairness"
   ]
  },
  {
   "cell_type": "code",
   "execution_count": null,
   "id": "b9e009a6",
   "metadata": {},
   "outputs": [],
   "source": [
    "import pandas as pd \n",
    "import joblib\n",
    "from sklearn.metrics import classification_report, confusion_matrix\n",
    "import matplotlib.pyplot as plt\n",
    "import seaborn as sns\n",
    "import os"
   ]
  },
  {
   "cell_type": "markdown",
   "id": "ea4c7fec",
   "metadata": {},
   "source": [
    "Carregar modelo e vetor já treinados"
   ]
  },
  {
   "cell_type": "code",
   "execution_count": null,
   "id": "e872187c",
   "metadata": {},
   "outputs": [],
   "source": [
    "modelo_path = '../model.joblib'\n",
    "vetor_path = '../vectorizer.joblib'\n",
    "dados_path = '../data/news_limpo.csv'\n",
    "\n",
    "if not (os.path.exists(modelo_path) and os.path.exists(vetor_path)):\n",
    "    raise FileExistsError('Treine e salve o modelo antes de executar!')\n",
    "\n",
    "model = joblib.load(modelo_path)\n",
    "vectorizer = joblib.load(vetor_path)\n",
    "df = pd.read_csv(dados_path)\n",
    "display(df.head())"
   ]
  },
  {
   "cell_type": "markdown",
   "id": "25f7207c",
   "metadata": {},
   "source": [
    "Monitoramento"
   ]
  },
  {
   "cell_type": "code",
   "execution_count": null,
   "id": "cdb12576",
   "metadata": {},
   "outputs": [],
   "source": [
    "novos_textos = [\"Breaking news: New advancements in AI technology are transforming industries.\",\n",
    "                 \"Exclusive report: Major breakthrough in renewable energy.\",\n",
    "                 \"Update: New study reveals the impact of social media on mental health.\",\n",
    "                 \"Breaking news: New study uncovers the effects of climate change on wildlife.\",\n",
    "                 \"Exclusive report: Investigation into the rise of deepfake technology.\",\n",
    "                 # Fake\n",
    "                 \"Ovnis are real and have been visiting Earth for decades.\",\n",
    "                 \"Aliens built the pyramids.\",\n",
    "                 \"Bigfoot is hiding in the woods.\",\n",
    "                 \"The Loch Ness Monster is real.\",\n",
    "                 \"Mermaids have been spotted off the coast.\"\n",
    "]\n",
    "\n",
    "novos_df = pd.DataFrame({'title': novos_textos})\n",
    "display(novos_df)"
   ]
  },
  {
   "cell_type": "markdown",
   "id": "1dfc3f91",
   "metadata": {},
   "source": [
    "Vetorizar e predição"
   ]
  },
  {
   "cell_type": "markdown",
   "id": "8e9f0513",
   "metadata": {},
   "source": []
  },
  {
   "cell_type": "code",
   "execution_count": null,
   "id": "771332b5",
   "metadata": {},
   "outputs": [],
   "source": [
    "novos_vetores = vectorizer.transform(novos_df['title'])\n",
    "novos_preds = model.predict(novos_vetores)\n",
    "novos_df['label_predito'] = novos_preds\n",
    "print(novos_df)"
   ]
  },
  {
   "cell_type": "markdown",
   "id": "98374cd0",
   "metadata": {},
   "source": [
    "Porcentagem de cada classe"
   ]
  },
  {
   "cell_type": "code",
   "execution_count": null,
   "id": "71ef5df8",
   "metadata": {},
   "outputs": [],
   "source": [
    "class_dist = novos_df['label_predito'].value_counts(normalize=True)\n",
    "print('Distribuição dos rótulos preditos nos novos dados:')\n",
    "print(class_dist)"
   ]
  },
  {
   "cell_type": "markdown",
   "id": "93bb384a",
   "metadata": {},
   "source": [
    "Fairness - Vieses"
   ]
  },
  {
   "cell_type": "code",
   "execution_count": null,
   "id": "496eed93",
   "metadata": {},
   "outputs": [],
   "source": [
    "df['title_len'] = df['title'].apply(len)\n",
    "df['len_category'] = pd.cut(df['title_len'], bins=[0,50,150,10000], labels=['curto', 'medio', 'longo'])\n",
    "display(df['len_category'])\n"
   ]
  },
  {
   "cell_type": "markdown",
   "id": "3911014c",
   "metadata": {},
   "source": [
    "Predições conjunto de validação"
   ]
  },
  {
   "cell_type": "code",
   "execution_count": null,
   "id": "34a3adae",
   "metadata": {},
   "outputs": [],
   "source": [
    "vetores = vectorizer.transform(df['title'])\n",
    "df['pred'] = model.predict(vetores)\n",
    "display(df['pred'])"
   ]
  },
  {
   "cell_type": "markdown",
   "id": "54d292ca",
   "metadata": {},
   "source": [
    "Avaliação de acurácia"
   ]
  },
  {
   "cell_type": "code",
   "execution_count": null,
   "id": "06474807",
   "metadata": {},
   "outputs": [],
   "source": [
    "for cat in df['len_category'].unique():\n",
    "    subset = df[df['len_category'] == cat]\n",
    "    if not subset.empty:\n",
    "        acuracia = (subset['label'] == subset['pred']).mean()\n",
    "        print(f'Acurácia para os textos {cat}: {acuracia:.2f} (N={len(subset)})')"
   ]
  },
  {
   "cell_type": "markdown",
   "id": "9c59f0ee",
   "metadata": {},
   "source": [
    "Desafio fairness"
   ]
  },
  {
   "cell_type": "code",
   "execution_count": null,
   "id": "3bbb44f5",
   "metadata": {},
   "outputs": [],
   "source": [
    "for cat in df['len_category'].unique():\n",
    "    subset = df[df['len_category'] == cat]\n",
    "    if not subset.empty:\n",
    "        print(f'\\nMatriz de confusão para textos {cat}:')\n",
    "        print(confusion_matrix(subset['label'], subset[\"pred\"]))\n",
    "        sns.heatmap(confusion_matrix(subset['label'], subset[\"pred\"]),\n",
    "                    annot=True, fmt='d', cmap='Blues',\n",
    "                     xticklabels=[\"Previsto Positivo\", \"Previsto Neutro\", \"Previsto Negativo\"],\n",
    "                    yticklabels=[\"Real Positivo\", \"Real Neutro\", \"Real Negativo\"])\n",
    "        plt.title(f'Textos {cat}')\n",
    "        plt.xlabel('Predito')\n",
    "        plt.ylabel('Real')\n",
    "        plt.show()"
   ]
  }
 ],
 "metadata": {
  "kernelspec": {
   "display_name": ".venv",
   "language": "python",
   "name": "python3"
  },
  "language_info": {
   "codemirror_mode": {
    "name": "ipython",
    "version": 3
   },
   "file_extension": ".py",
   "mimetype": "text/x-python",
   "name": "python",
   "nbconvert_exporter": "python",
   "pygments_lexer": "ipython3",
   "version": "3.11.5"
  }
 },
 "nbformat": 4,
 "nbformat_minor": 5
}
