{
 "cells": [
  {
   "cell_type": "markdown",
   "id": "774254ea",
   "metadata": {},
   "source": [
    "Exploração e limpeza de dados de Fake News"
   ]
  },
  {
   "cell_type": "code",
   "execution_count": 71,
   "id": "2fa7e111",
   "metadata": {},
   "outputs": [],
   "source": [
    "import pandas as pd \n",
    "import os\n",
    "import matplotlib.pyplot as plt \n",
    "import seaborn as sns\n",
    "import warnings\n",
    "warnings.filterwarnings(\"ignore\")"
   ]
  },
  {
   "cell_type": "markdown",
   "id": "ea6bc863",
   "metadata": {},
   "source": [
    "Carregar dataset"
   ]
  },
  {
   "cell_type": "code",
   "execution_count": 72,
   "id": "07aa0598",
   "metadata": {},
   "outputs": [
    {
     "data": {
      "application/vnd.microsoft.datawrangler.viewer.v0+json": {
       "columns": [
        {
         "name": "index",
         "rawType": "int64",
         "type": "integer"
        },
        {
         "name": "title",
         "rawType": "object",
         "type": "string"
        },
        {
         "name": "label",
         "rawType": "object",
         "type": "string"
        }
       ],
       "ref": "e83c2489-afc0-425d-8926-ac64df184bbd",
       "rows": [
        [
         "0",
         "As U.S. budget fight looms, Republicans flip their fiscal script",
         "real"
        ],
        [
         "1",
         "U.S. military to accept transgender recruits on Monday: Pentagon",
         "real"
        ],
        [
         "2",
         "Senior U.S. Republican senator: 'Let Mr. Mueller do his job'",
         "real"
        ],
        [
         "3",
         "FBI Russia probe helped by Australian diplomat tip-off: NYT",
         "real"
        ],
        [
         "4",
         "Trump wants Postal Service to charge 'much more' for Amazon shipments",
         "real"
        ],
        [
         "5",
         "White House, Congress prepare for talks on spending, immigration",
         "real"
        ],
        [
         "6",
         "Trump says Russia probe will be fair, but timeline unclear: NYT",
         "real"
        ],
        [
         "7",
         "Factbox: Trump on Twitter (Dec 29) - Approval rating, Amazon",
         "real"
        ],
        [
         "8",
         "Trump on Twitter (Dec 28) - Global Warming",
         "real"
        ],
        [
         "9",
         "Alabama official to certify Senator-elect Jones today despite challenge: CNN",
         "real"
        ]
       ],
       "shape": {
        "columns": 2,
        "rows": 10
       }
      },
      "text/html": [
       "<div>\n",
       "<style scoped>\n",
       "    .dataframe tbody tr th:only-of-type {\n",
       "        vertical-align: middle;\n",
       "    }\n",
       "\n",
       "    .dataframe tbody tr th {\n",
       "        vertical-align: top;\n",
       "    }\n",
       "\n",
       "    .dataframe thead th {\n",
       "        text-align: right;\n",
       "    }\n",
       "</style>\n",
       "<table border=\"1\" class=\"dataframe\">\n",
       "  <thead>\n",
       "    <tr style=\"text-align: right;\">\n",
       "      <th></th>\n",
       "      <th>title</th>\n",
       "      <th>label</th>\n",
       "    </tr>\n",
       "  </thead>\n",
       "  <tbody>\n",
       "    <tr>\n",
       "      <th>0</th>\n",
       "      <td>As U.S. budget fight looms, Republicans flip t...</td>\n",
       "      <td>real</td>\n",
       "    </tr>\n",
       "    <tr>\n",
       "      <th>1</th>\n",
       "      <td>U.S. military to accept transgender recruits o...</td>\n",
       "      <td>real</td>\n",
       "    </tr>\n",
       "    <tr>\n",
       "      <th>2</th>\n",
       "      <td>Senior U.S. Republican senator: 'Let Mr. Muell...</td>\n",
       "      <td>real</td>\n",
       "    </tr>\n",
       "    <tr>\n",
       "      <th>3</th>\n",
       "      <td>FBI Russia probe helped by Australian diplomat...</td>\n",
       "      <td>real</td>\n",
       "    </tr>\n",
       "    <tr>\n",
       "      <th>4</th>\n",
       "      <td>Trump wants Postal Service to charge 'much mor...</td>\n",
       "      <td>real</td>\n",
       "    </tr>\n",
       "    <tr>\n",
       "      <th>5</th>\n",
       "      <td>White House, Congress prepare for talks on spe...</td>\n",
       "      <td>real</td>\n",
       "    </tr>\n",
       "    <tr>\n",
       "      <th>6</th>\n",
       "      <td>Trump says Russia probe will be fair, but time...</td>\n",
       "      <td>real</td>\n",
       "    </tr>\n",
       "    <tr>\n",
       "      <th>7</th>\n",
       "      <td>Factbox: Trump on Twitter (Dec 29) - Approval ...</td>\n",
       "      <td>real</td>\n",
       "    </tr>\n",
       "    <tr>\n",
       "      <th>8</th>\n",
       "      <td>Trump on Twitter (Dec 28) - Global Warming</td>\n",
       "      <td>real</td>\n",
       "    </tr>\n",
       "    <tr>\n",
       "      <th>9</th>\n",
       "      <td>Alabama official to certify Senator-elect Jone...</td>\n",
       "      <td>real</td>\n",
       "    </tr>\n",
       "  </tbody>\n",
       "</table>\n",
       "</div>"
      ],
      "text/plain": [
       "                                               title label\n",
       "0  As U.S. budget fight looms, Republicans flip t...  real\n",
       "1  U.S. military to accept transgender recruits o...  real\n",
       "2  Senior U.S. Republican senator: 'Let Mr. Muell...  real\n",
       "3  FBI Russia probe helped by Australian diplomat...  real\n",
       "4  Trump wants Postal Service to charge 'much mor...  real\n",
       "5  White House, Congress prepare for talks on spe...  real\n",
       "6  Trump says Russia probe will be fair, but time...  real\n",
       "7  Factbox: Trump on Twitter (Dec 29) - Approval ...  real\n",
       "8         Trump on Twitter (Dec 28) - Global Warming  real\n",
       "9  Alabama official to certify Senator-elect Jone...  real"
      ]
     },
     "metadata": {},
     "output_type": "display_data"
    }
   ],
   "source": [
    "# Carregar os datasets True e False\n",
    "df_real = pd.read_csv(\"../data/News_dataset/real_news.csv\")\n",
    "df_fake = pd.read_csv(\"../data/News_dataset/fake_news.csv\")\n",
    "\n",
    "# Incluir label\n",
    "df_real['label'] = 'real'\n",
    "df_fake['label'] = 'fake'\n",
    "\n",
    "# Concatenar os datasets\n",
    "df = pd.concat([df_real[['title','label']], df_fake[['title','label']]], ignore_index=True)\n",
    "#df = df.apply(lambda x: x.str.strip() if x.dtype == \"object\" else x) # remover espaços em branco\n",
    "display(df.head(10))"
   ]
  },
  {
   "cell_type": "markdown",
   "id": "2b254f87",
   "metadata": {},
   "source": [
    "Analise exploratoria"
   ]
  },
  {
   "cell_type": "code",
   "execution_count": 73,
   "id": "ca6a992e",
   "metadata": {},
   "outputs": [
    {
     "name": "stdout",
     "output_type": "stream",
     "text": [
      "<class 'pandas.core.frame.DataFrame'>\n",
      "RangeIndex: 44898 entries, 0 to 44897\n",
      "Data columns (total 2 columns):\n",
      " #   Column  Non-Null Count  Dtype \n",
      "---  ------  --------------  ----- \n",
      " 0   title   44898 non-null  object\n",
      " 1   label   44898 non-null  object\n",
      "dtypes: object(2)\n",
      "memory usage: 701.7+ KB\n",
      "None\n",
      "title    0\n",
      "label    0\n",
      "dtype: int64\n"
     ]
    }
   ],
   "source": [
    "print(df.info())\n",
    "print(df.isnull().sum())\n",
    "\n",
    "if \"label\" not in df.columns or \"title\" not in df.columns:\n",
    "    raise ValueError(\"Colunas 'label' e 'title' devem ser preenchidas no dataset.\")"
   ]
  },
  {
   "cell_type": "code",
   "execution_count": 74,
   "id": "921ff01a",
   "metadata": {},
   "outputs": [
    {
     "name": "stdout",
     "output_type": "stream",
     "text": [
      "label\n",
      "fake    23481\n",
      "real    21417\n",
      "Name: count, dtype: int64\n",
      "       title_length\n",
      "label              \n",
      "fake      94.198032\n",
      "real      64.667881\n"
     ]
    },
    {
     "data": {
      "image/png": "[encoded data removed]",
      "text/plain": [
       "<Figure size 1000x600 with 1 Axes>"
      ]
     },
     "metadata": {},
     "output_type": "display_data"
    }
   ],
   "source": [
    "print(df[\"label\"] .value_counts())\n",
    "df[\"title_length\"] = df[\"title\"] .astype(str).apply(len)\n",
    "print(df[[\"label\", \"title_length\"]] .groupby(\"label\") .mean())\n",
    "\n",
    "plt.figure(figsize=(10,6))\n",
    "sns.histplot(data=df, x=\"title_length\", hue=\"label\", bins=20, kde=True)\n",
    "plt.title(\"Distribuição do tamanho dos títulos por rótulo\")\n",
    "plt.xlabel(\"Tamanho do título\")\n",
    "plt.ylabel(\"Contagem\")\n",
    "plt.tight_layout()\n",
    "plt.show()"
   ]
  },
  {
   "cell_type": "markdown",
   "id": "65c44c95",
   "metadata": {},
   "source": [
    "salvar dataset limpo"
   ]
  },
  {
   "cell_type": "code",
   "execution_count": 75,
   "id": "7e1f7f5b",
   "metadata": {},
   "outputs": [
    {
     "name": "stdout",
     "output_type": "stream",
     "text": [
      "Arquivo salvo em ../data/news_limpo.csv\n"
     ]
    }
   ],
   "source": [
    "\n",
    "df.to_csv(\"../data/news_limpo.csv\", index=False)\n",
    "print(\"Arquivo salvo em ../data/news_limpo.csv\")"
   ]
  }
 ],
 "metadata": {
  "kernelspec": {
   "display_name": ".venv",
   "language": "python",
   "name": "python3"
  },
  "language_info": {
   "codemirror_mode": {
    "name": "ipython",
    "version": 3
   },
   "file_extension": ".py",
   "mimetype": "text/x-python",
   "name": "python",
   "nbconvert_exporter": "python",
   "pygments_lexer": "ipython3",
   "version": "3.11.5"
  }
 },
 "nbformat": 4,
 "nbformat_minor": 5
}
