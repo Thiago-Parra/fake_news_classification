{
 "cells": [
  {
   "cell_type": "markdown",
   "id": "774254ea",
   "metadata": {},
   "source": [
    "Exploração e limpeza de dados de Fake News"
   ]
  },
  {
   "cell_type": "code",
   "execution_count": null,
   "id": "2fa7e111",
   "metadata": {},
   "outputs": [],
   "source": [
    "import pandas as pd \n",
    "import os\n",
    "import matplotlib.pyplot as plt \n",
    "import seaborn as sns\n",
    "import warnings\n",
    "warnings.filterwarnings(\"ignore\")"
   ]
  },
  {
   "cell_type": "markdown",
   "id": "ea6bc863",
   "metadata": {},
   "source": [
    "Carregar dataset"
   ]
  },
  {
   "cell_type": "code",
   "execution_count": null,
   "id": "07aa0598",
   "metadata": {},
   "outputs": [],
   "source": [
    "# Carregar os datasets True e False\n",
    "df_real = pd.read_csv(\"../data/News_dataset/real_news.csv\")\n",
    "df_fake = pd.read_csv(\"../data/News_dataset/fake_news.csv\")\n",
    "\n",
    "# Incluir label\n",
    "df_real['label'] = 'real'\n",
    "df_fake['label'] = 'fake'\n",
    "\n",
    "# Concatenar os datasets\n",
    "df = pd.concat([df_real[['title','label']], df_fake[['title','label']]], ignore_index=True)\n",
    "#df = df.apply(lambda x: x.str.strip() if x.dtype == \"object\" else x) # remover espaços em branco\n",
    "display(df.head(10))"
   ]
  },
  {
   "cell_type": "markdown",
   "id": "2b254f87",
   "metadata": {},
   "source": [
    "Analise exploratoria"
   ]
  },
  {
   "cell_type": "code",
   "execution_count": null,
   "id": "ca6a992e",
   "metadata": {},
   "outputs": [],
   "source": [
    "print(df.info())\n",
    "print(df.isnull().sum())\n",
    "\n",
    "if \"label\" not in df.columns or \"title\" not in df.columns:\n",
    "    raise ValueError(\"Colunas 'label' e 'title' devem ser preenchidas no dataset.\")"
   ]
  },
  {
   "cell_type": "code",
   "execution_count": null,
   "id": "921ff01a",
   "metadata": {},
   "outputs": [],
   "source": [
    "print(df[\"label\"] .value_counts())\n",
    "df[\"title_length\"] = df[\"title\"] .astype(str).apply(len)\n",
    "print(df[[\"label\", \"title_length\"]] .groupby(\"label\") .mean())\n",
    "\n",
    "plt.figure(figsize=(10,6))\n",
    "sns.histplot(data=df, x=\"title_length\", hue=\"label\", bins=20, kde=True)\n",
    "plt.title(\"Distribuição do tamanho dos títulos por rótulo\")\n",
    "plt.xlabel(\"Tamanho do título\")\n",
    "plt.ylabel(\"Contagem\")\n",
    "plt.tight_layout()\n",
    "plt.show()"
   ]
  },
  {
   "cell_type": "markdown",
   "id": "65c44c95",
   "metadata": {},
   "source": [
    "salvar dataset limpo"
   ]
  },
  {
   "cell_type": "code",
   "execution_count": null,
   "id": "7e1f7f5b",
   "metadata": {},
   "outputs": [],
   "source": [
    "\n",
    "df.to_csv(\"../data/news_limpo.csv\", index=False)\n",
    "print(\"Arquivo salvo em ../data/news_limpo.csv\")"
   ]
  }
 ],
 "metadata": {
  "kernelspec": {
   "display_name": ".venv",
   "language": "python",
   "name": "python3"
  },
  "language_info": {
   "codemirror_mode": {
    "name": "ipython",
    "version": 3
   },
   "file_extension": ".py",
   "mimetype": "text/x-python",
   "name": "python",
   "nbconvert_exporter": "python",
   "pygments_lexer": "ipython3",
   "version": "3.11.5"
  }
 },
 "nbformat": 4,
 "nbformat_minor": 5
}
