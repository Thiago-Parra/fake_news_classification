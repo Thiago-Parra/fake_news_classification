{
 "cells": [
  {
   "cell_type": "markdown",
   "metadata": {},
   "source": [
    "# Aula 2: Pipeline, Validação e Treinamento (com validação pandas) para Fake News"
   ]
  },
  {
   "cell_type": "code",
   "execution_count": null,
   "metadata": {},
   "outputs": [],
   "source": [
    "import pandas as pd\n",
    "from sklearn.model_selection import train_test_split\n",
    "from sklearn.feature_extraction.text import TfidfVectorizer\n",
    "from sklearn.linear_model import LogisticRegression\n",
    "from sklearn.pipeline import Pipeline\n",
    "from sklearn.metrics import classification_report\n",
    "import joblib as joblib\n",
    "import mlflow as mlflow\n",
    "import os as os"
   ]
  },
  {
   "cell_type": "code",
   "execution_count": null,
   "metadata": {},
   "outputs": [],
   "source": [
    "# Passo 1: Carregue os dados\n",
    "caminho = \"../data/news_limpo.csv\"\n",
    "if not os.path.exists(caminho): \n",
    "    raise FileNotFoundError(f\"Arquivo não encontrado: {caminho}\")\n",
    "\n",
    "df = pd.read_csv(caminho)"
   ]
  },
  {
   "cell_type": "code",
   "execution_count": null,
   "metadata": {},
   "outputs": [],
   "source": [
    "# exibir contagem de valores nulos por coluna\n",
    "df.isnull().sum()\n",
    "\n",
    "# exibir linhas cuja coluna title é nula\n",
    "df[df[\"title\"].isnull()]"
   ]
  },
  {
   "cell_type": "code",
   "execution_count": null,
   "metadata": {},
   "outputs": [],
   "source": [
    "# Passo 2: Validação simples com pandas\n",
    "assert df[\"title\"].notnull().all(), \"Coluna 'title' possui valores nulos.\" \n",
    "assert df[\"label\"].notnull().all(), \"Coluna 'label' possui valores nulos.\"\n",
    "assert df[\"title\"].apply(lambda x: isinstance(x, str)).all(), \"Coluna 'title' não é do tipo string.\"\n",
    "assert df[\"label\"].isin([\"fake\", \"real\"]).all(), \"Coluna 'label' possui valores inesperados.\"\n",
    "print(\"Validação dos dados concluída com sucesso!\")"
   ]
  },
  {
   "cell_type": "code",
   "execution_count": null,
   "metadata": {},
   "outputs": [],
   "source": [
    "# Passo 3: Separe treino e teste\n",
    "X = df['title'].fillna('')\n",
    "y = df['label']\n",
    "X_train, X_test, y_train, y_test = train_test_split(X, y, test_size=0.2, random_state=42, stratify=y)"
   ]
  },
  {
   "cell_type": "code",
   "execution_count": null,
   "metadata": {},
   "outputs": [],
   "source": [
    "# Passo 4: Crie e treine o pipeline\n",
    "pipeline = Pipeline([\n",
    "    (\"vect\", TfidfVectorizer(stop_words='english', max_df=0.7)),\n",
    "    (\"clf\", LogisticRegression())\n",
    "])\n",
    "pipeline.fit(X_train, y_train)"
   ]
  },
  {
   "cell_type": "code",
   "execution_count": null,
   "metadata": {},
   "outputs": [],
   "source": [
    "# Passo 5: Avalie o modelo\n",
    "y_pred = pipeline.predict(X_test)\n",
    "print(classification_report(y_test, y_pred, labels=[\"fake\", \"real\"]))"
   ]
  },
  {
   "cell_type": "markdown",
   "metadata": {},
   "source": [
    "Salvar o modelo e vetor"
   ]
  },
  {
   "cell_type": "code",
   "execution_count": null,
   "metadata": {},
   "outputs": [],
   "source": [
    "joblib.dump(pipeline.named_steps[\"clf\"], \"../model.joblib\")\n",
    "joblib.dump(pipeline.named_steps[\"vect\"], \"../vectorizer.joblib\")"
   ]
  },
  {
   "cell_type": "markdown",
   "metadata": {},
   "source": [
    "Rastrear os experimentos com MLFLOW"
   ]
  },
  {
   "cell_type": "code",
   "execution_count": null,
   "metadata": {},
   "outputs": [],
   "source": [
    "from mlflow.models import infer_signature\n",
    "\n",
    "input_example = pd.DataFrame({\"title\": [\"This is a real news!\"]})\n",
    "\n",
    "mlflow.sklearn.log_model(\n",
    "    sk_model=pipeline, \n",
    "    name=\"modelo_fake_news\", \n",
    "    input_example=input_example\n",
    ")"
   ]
  }
 ],
 "metadata": {
  "kernelspec": {
   "display_name": ".venv",
   "language": "python",
   "name": "python3"
  },
  "language_info": {
   "codemirror_mode": {
    "name": "ipython",
    "version": 3
   },
   "file_extension": ".py",
   "mimetype": "text/x-python",
   "name": "python",
   "nbconvert_exporter": "python",
   "pygments_lexer": "ipython3",
   "version": "3.11.5"
  }
 },
 "nbformat": 4,
 "nbformat_minor": 2
}
