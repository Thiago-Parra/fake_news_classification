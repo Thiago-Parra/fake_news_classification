{
 "cells": [
  {
   "cell_type": "markdown",
   "id": "17f79537",
   "metadata": {},
   "source": [
    "Deploy interativo para Fake News"
   ]
  },
  {
   "cell_type": "code",
   "execution_count": null,
   "id": "399c5361",
   "metadata": {},
   "outputs": [],
   "source": [
    "import streamlit as st \n",
    "import joblib\n",
    "import os \n",
    "\n",
    "st.set_page_config(page_title=\"Fake News Classifier\", layout=\"centered\")\n",
    "st.header(\"Classificação de Fake News\")\n",
    "\n",
    "input_text = st.text_area(\"Digite o título da notícia para análise\", height=150)\n",
    "\n",
    "modelo_path = \"../model.joblib\"\n",
    "vetor_path = \"../vectorizer.joblib\"\n",
    "\n",
    "if os.path.exists(modelo_path) and os.path.exists(vetor_path):\n",
    "    model = joblib.load(modelo_path)\n",
    "    vectorizer = joblib.load(vetor_path)\n",
    "\n",
    "    if st.button(\"Classificar\"):\n",
    "        if input_text.strip():\n",
    "            texto_vetor = vectorizer.transform([input_text])\n",
    "            pred = model.predict(texto_vetor)[0]\n",
    "            st.success(f\"Previsão: {pred}\")\n",
    "        else:\n",
    "            st.warning(\"Digite algum texto para classificar\")\n",
    "else:\n",
    "    st.error(\"Arquivos de modelo ou vetor ausentes.\")\n"
   ]
  }
 ],
 "metadata": {
  "kernelspec": {
   "display_name": ".venv",
   "language": "python",
   "name": "python3"
  },
  "language_info": {
   "codemirror_mode": {
    "name": "ipython",
    "version": 3
   },
   "file_extension": ".py",
   "mimetype": "text/x-python",
   "name": "python",
   "nbconvert_exporter": "python",
   "pygments_lexer": "ipython3",
   "version": "3.11.5"
  }
 },
 "nbformat": 4,
 "nbformat_minor": 5
}
