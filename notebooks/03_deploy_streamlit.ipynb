{
 "cells": [
  {
   "cell_type": "markdown",
   "id": "17f79537",
   "metadata": {},
   "source": [
    "Deploy interativo para Fake News"
   ]
  },
  {
   "cell_type": "code",
   "execution_count": 1,
   "id": "399c5361",
   "metadata": {},
   "outputs": [
    {
     "name": "stderr",
     "output_type": "stream",
     "text": [
      "2025-09-02 20:15:18.199 WARNING streamlit.runtime.scriptrunner_utils.script_run_context: Thread 'MainThread': missing ScriptRunContext! This warning can be ignored when running in bare mode.\n",
      "2025-09-02 20:15:18.200 WARNING streamlit.runtime.scriptrunner_utils.script_run_context: Thread 'MainThread': missing ScriptRunContext! This warning can be ignored when running in bare mode.\n",
      "2025-09-02 20:15:18.504 \n",
      "  \u001b[33m\u001b[1mWarning:\u001b[0m to view this Streamlit app on a browser, run it with the following\n",
      "  command:\n",
      "\n",
      "    streamlit run d:\\Documentos - Google Drive\\Cursos\\MBA UFSCar MLP 2025\\Módulo ESBD\\Teste de Software para Sistemas que usam IA\\Atividade 2\\fake_news_classification\\.venv\\Lib\\site-packages\\ipykernel_launcher.py [ARGUMENTS]\n",
      "2025-09-02 20:15:18.505 Thread 'MainThread': missing ScriptRunContext! This warning can be ignored when running in bare mode.\n",
      "2025-09-02 20:15:18.505 Thread 'MainThread': missing ScriptRunContext! This warning can be ignored when running in bare mode.\n",
      "2025-09-02 20:15:18.506 Thread 'MainThread': missing ScriptRunContext! This warning can be ignored when running in bare mode.\n",
      "2025-09-02 20:15:18.506 Thread 'MainThread': missing ScriptRunContext! This warning can be ignored when running in bare mode.\n",
      "2025-09-02 20:15:18.507 Thread 'MainThread': missing ScriptRunContext! This warning can be ignored when running in bare mode.\n",
      "2025-09-02 20:15:18.507 Thread 'MainThread': missing ScriptRunContext! This warning can be ignored when running in bare mode.\n",
      "2025-09-02 20:15:18.508 Session state does not function when running a script without `streamlit run`\n",
      "2025-09-02 20:15:18.508 Thread 'MainThread': missing ScriptRunContext! This warning can be ignored when running in bare mode.\n",
      "2025-09-02 20:15:18.509 Thread 'MainThread': missing ScriptRunContext! This warning can be ignored when running in bare mode.\n",
      "2025-09-02 20:15:18.510 Thread 'MainThread': missing ScriptRunContext! This warning can be ignored when running in bare mode.\n",
      "2025-09-02 20:15:19.658 Thread 'MainThread': missing ScriptRunContext! This warning can be ignored when running in bare mode.\n",
      "2025-09-02 20:15:19.659 Thread 'MainThread': missing ScriptRunContext! This warning can be ignored when running in bare mode.\n",
      "2025-09-02 20:15:19.659 Thread 'MainThread': missing ScriptRunContext! This warning can be ignored when running in bare mode.\n",
      "2025-09-02 20:15:19.660 Thread 'MainThread': missing ScriptRunContext! This warning can be ignored when running in bare mode.\n",
      "2025-09-02 20:15:19.660 Thread 'MainThread': missing ScriptRunContext! This warning can be ignored when running in bare mode.\n",
      "2025-09-02 20:15:19.661 Thread 'MainThread': missing ScriptRunContext! This warning can be ignored when running in bare mode.\n"
     ]
    }
   ],
   "source": [
    "import streamlit as st \n",
    "import joblib\n",
    "import os\n",
    "import warnings\n",
    "warnings.filterwarnings(\"ignore\")\n",
    "\n",
    "st.set_page_config(page_title=\"Fake News Classifier\", layout=\"centered\")\n",
    "st.header(\"Fake News Classifier\")\n",
    "\n",
    "input_text = st.text_area(\"Enter the news title for analysis\", height=150)\n",
    "\n",
    "modelo_path = \"../model.joblib\"\n",
    "vetor_path = \"../vectorizer.joblib\"\n",
    "\n",
    "if os.path.exists(modelo_path) and os.path.exists(vetor_path):\n",
    "    model = joblib.load(modelo_path)\n",
    "    vectorizer = joblib.load(vetor_path)\n",
    "\n",
    "    if st.button(\"Classify\"):\n",
    "        if input_text.strip():\n",
    "            texto_vetor = vectorizer.transform([input_text])\n",
    "            pred = model.predict(texto_vetor)[0]\n",
    "            st.success(f\"Prediction: {pred}\")\n",
    "        else:\n",
    "            st.warning(\"Please enter some text to classify.\")\n",
    "else:\n",
    "    st.error(\"Model or vectorizer files are missing.\")\n"
   ]
  }
 ],
 "metadata": {
  "kernelspec": {
   "display_name": ".venv",
   "language": "python",
   "name": "python3"
  },
  "language_info": {
   "codemirror_mode": {
    "name": "ipython",
    "version": 3
   },
   "file_extension": ".py",
   "mimetype": "text/x-python",
   "name": "python",
   "nbconvert_exporter": "python",
   "pygments_lexer": "ipython3",
   "version": "3.11.5"
  }
 },
 "nbformat": 4,
 "nbformat_minor": 5
}
